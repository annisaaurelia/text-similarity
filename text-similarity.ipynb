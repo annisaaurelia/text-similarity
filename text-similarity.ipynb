{
 "cells": [
  {
   "cell_type": "markdown",
   "metadata": {
    "id": "zNMtXmFRgOtk"
   },
   "source": [
    "# Import Library"
   ]
  },
  {
   "cell_type": "code",
   "execution_count": 1,
   "metadata": {
    "executionInfo": {
     "elapsed": 1071,
     "status": "ok",
     "timestamp": 1611892232426,
     "user": {
      "displayName": "Annisa Aurelia Mufid",
      "photoUrl": "https://lh3.googleusercontent.com/a-/AOh14GggsYORi5pqvXwDZ5FKnhO9xdq4D09gXobX6Ib0AA=s64",
      "userId": "11156165881536976817"
     },
     "user_tz": -420
    },
    "id": "E2jLKk27gN4C"
   },
   "outputs": [],
   "source": [
    "import pandas as pd\n",
    "import numpy as np\n",
    "pd.set_option('display.max_rows', None)"
   ]
  },
  {
   "cell_type": "markdown",
   "metadata": {
    "id": "cMGlPrWFfOf0"
   },
   "source": [
    "# Text Similarity"
   ]
  },
  {
   "cell_type": "code",
   "execution_count": 4,
   "metadata": {
    "colab": {
     "base_uri": "https://localhost:8080/"
    },
    "executionInfo": {
     "elapsed": 2688,
     "status": "ok",
     "timestamp": 1611892235969,
     "user": {
      "displayName": "Annisa Aurelia Mufid",
      "photoUrl": "https://lh3.googleusercontent.com/a-/AOh14GggsYORi5pqvXwDZ5FKnhO9xdq4D09gXobX6Ib0AA=s64",
      "userId": "11156165881536976817"
     },
     "user_tz": -420
    },
    "id": "0e96YCafHXHS",
    "outputId": "2c396b9b-48d4-4681-cd42-fe9b23ac9baa"
   },
   "outputs": [
    {
     "name": "stdout",
     "output_type": "stream",
     "text": [
      "[nltk_data] Downloading package punkt to /root/nltk_data...\n",
      "[nltk_data]   Package punkt is already up-to-date!\n"
     ]
    }
   ],
   "source": [
    "import nltk, string\n",
    "from sklearn.feature_extraction.text import TfidfVectorizer\n",
    "\n",
    "nltk.download('punkt') # if necessary...\n",
    "\n",
    "\n",
    "stemmer = nltk.stem.porter.PorterStemmer()\n",
    "remove_punctuation_map = dict((ord(char), None) for char in string.punctuation)\n",
    "\n",
    "def stem_tokens(tokens):\n",
    "    return [stemmer.stem(item) for item in tokens]\n",
    "\n",
    "'''remove punctuation, lowercase, stem'''\n",
    "def normalize(text):\n",
    "    return stem_tokens(nltk.word_tokenize(text.lower().translate(remove_punctuation_map)))\n",
    "\n",
    "vectorizer = TfidfVectorizer(tokenizer=normalize, stop_words='english')\n",
    "\n",
    "def cosine_sim(text1, text2):\n",
    "    tfidf = vectorizer.fit_transform([text1, text2])\n",
    "    return ((tfidf * tfidf.T).A)[0,1]"
   ]
  },
  {
   "cell_type": "code",
   "execution_count": 6,
   "metadata": {
    "colab": {
     "base_uri": "https://localhost:8080/",
     "height": 0
    },
    "executionInfo": {
     "elapsed": 1770,
     "status": "ok",
     "timestamp": 1611810731541,
     "user": {
      "displayName": "Annisa Aurelia Mufid",
      "photoUrl": "https://lh3.googleusercontent.com/a-/AOh14GggsYORi5pqvXwDZ5FKnhO9xdq4D09gXobX6Ib0AA=s64",
      "userId": "11156165881536976817"
     },
     "user_tz": -420
    },
    "id": "nqdLYUpBZxw6",
    "outputId": "c7a27c11-7255-480a-ea61-06f52d1355ce"
   },
   "outputs": [
    {
     "name": "stdout",
     "output_type": "stream",
     "text": [
      "0.9207401897413284\n",
      "0.7092972666062738\n",
      "0.0\n"
     ]
    }
   ],
   "source": [
    "print (cosine_sim('SAN REMO PASTA SAUCE BOLOGNASE & MUSHROOM 500 GRAM - HOMESTYLE PASTA', 'SAN REMO PASTA SAUCE BOLOGNASE & MUSHROOM 500 GRAM - HOMESTYLE PASTA'))\n",
    "print (cosine_sim('a little bird', 'a little bird chirps'))\n",
    "print (cosine_sim('a little bird', 'a big dog barks'))"
   ]
  }
 ],
 "metadata": {
  "colab": {
   "authorship_tag": "ABX9TyMLGuD1sOjYbN5NRnJ7wu4+",
   "collapsed_sections": [
    "zNMtXmFRgOtk",
    "cMGlPrWFfOf0",
    "qpqF0cQGfUzw"
   ],
   "name": "Supermarket SKU and Seller Batch 1 (DONE)",
   "provenance": []
  },
  "kernelspec": {
   "display_name": "Python 3",
   "language": "python",
   "name": "python3"
  },
  "language_info": {
   "codemirror_mode": {
    "name": "ipython",
    "version": 3
   },
   "file_extension": ".py",
   "mimetype": "text/x-python",
   "name": "python",
   "nbconvert_exporter": "python",
   "pygments_lexer": "ipython3",
   "version": "3.7.6"
  }
 },
 "nbformat": 4,
 "nbformat_minor": 1
}
